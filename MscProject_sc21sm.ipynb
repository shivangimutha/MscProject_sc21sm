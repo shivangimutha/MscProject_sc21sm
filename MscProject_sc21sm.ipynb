{
  "nbformat": 4,
  "nbformat_minor": 0,
  "metadata": {
    "colab": {
      "name": "MscProject_sc21sm.ipynb",
      "provenance": [],
      "collapsed_sections": []
    },
    "kernelspec": {
      "name": "python3",
      "display_name": "Python 3"
    },
    "language_info": {
      "name": "python"
    }
  },
  "cells": [
    {
      "cell_type": "code",
      "execution_count": 20,
      "metadata": {
        "id": "nreqoG4kTHMN"
      },
      "outputs": [],
      "source": [
        "import pandas as pd\n",
        "import numpy as np\n",
        "from nltk.tokenize import word_tokenize\n",
        "from nltk import pos_tag\n",
        "from nltk.corpus import stopwords\n",
        "from nltk.stem import WordNetLemmatizer\n",
        "from sklearn.preprocessing import LabelEncoder\n",
        "from collections import defaultdict\n",
        "from nltk.corpus import wordnet as wn\n",
        "from sklearn.feature_extraction.text import TfidfVectorizer\n",
        "from sklearn import model_selection, svm\n",
        "from sklearn.metrics import accuracy_score, f1_score, confusion_matrix\n",
        "import seaborn as sns\n",
        "import nltk"
      ]
    },
    {
      "cell_type": "code",
      "source": [
        "# import the builtin time module\n",
        "import time\n",
        "from sklearn.naive_bayes import MultinomialNB\n",
        "from sklearn.metrics import classification_report,confusion_matrix\n",
        "from sklearn.ensemble import (BaggingClassifier,\n",
        "                              RandomForestClassifier,\n",
        "                              AdaBoostClassifier)\n",
        "\n",
        "from sklearn.tree import DecisionTreeClassifier"
      ],
      "metadata": {
        "id": "woiSDPxTAP0H"
      },
      "execution_count": 21,
      "outputs": []
    },
    {
      "cell_type": "code",
      "source": [
        "import gensim"
      ],
      "metadata": {
        "id": "vMfKdiAhTUcQ"
      },
      "execution_count": 22,
      "outputs": []
    },
    {
      "cell_type": "code",
      "source": [
        " nltk.download('all')"
      ],
      "metadata": {
        "id": "G5JQxJAT_GT5"
      },
      "execution_count": null,
      "outputs": []
    },
    {
      "cell_type": "code",
      "source": [
        "olid_df = pd.read_csv('/content/olid-training-v1.0.tsv', sep='\\t')\n"
      ],
      "metadata": {
        "id": "dFF1nOhbTXuH"
      },
      "execution_count": 24,
      "outputs": []
    },
    {
      "cell_type": "code",
      "source": [
        "olid_df"
      ],
      "metadata": {
        "colab": {
          "base_uri": "https://localhost:8080/",
          "height": 424
        },
        "id": "Hhynhk4eTpLe",
        "outputId": "e143b8d0-9a10-4e5e-a3c1-76eb5482a3a2"
      },
      "execution_count": 25,
      "outputs": [
        {
          "output_type": "execute_result",
          "data": {
            "text/plain": [
              "          id                                              tweet subtask_a  \\\n",
              "0      86426  @USER She should ask a few native Americans wh...       OFF   \n",
              "1      90194  @USER @USER Go home you’re drunk!!! @USER #MAG...       OFF   \n",
              "2      16820  Amazon is investigating Chinese employees who ...       NOT   \n",
              "3      62688  @USER Someone should'veTaken\" this piece of sh...       OFF   \n",
              "4      43605  @USER @USER Obama wanted liberals &amp; illega...       NOT   \n",
              "...      ...                                                ...       ...   \n",
              "13235  95338  @USER Sometimes I get strong vibes from people...       OFF   \n",
              "13236  67210  Benidorm ✅  Creamfields ✅  Maga ✅   Not too sh...       NOT   \n",
              "13237  82921  @USER And why report this garbage.  We don't g...       OFF   \n",
              "13238  27429                                        @USER Pussy       OFF   \n",
              "13239  46552  #Spanishrevenge vs. #justice #HumanRights and ...       NOT   \n",
              "\n",
              "      subtask_b subtask_c  \n",
              "0           UNT       NaN  \n",
              "1           TIN       IND  \n",
              "2           NaN       NaN  \n",
              "3           UNT       NaN  \n",
              "4           NaN       NaN  \n",
              "...         ...       ...  \n",
              "13235       TIN       IND  \n",
              "13236       NaN       NaN  \n",
              "13237       TIN       OTH  \n",
              "13238       UNT       NaN  \n",
              "13239       NaN       NaN  \n",
              "\n",
              "[13240 rows x 5 columns]"
            ],
            "text/html": [
              "\n",
              "  <div id=\"df-14993edd-36cf-48b0-b67b-29d81334b37c\">\n",
              "    <div class=\"colab-df-container\">\n",
              "      <div>\n",
              "<style scoped>\n",
              "    .dataframe tbody tr th:only-of-type {\n",
              "        vertical-align: middle;\n",
              "    }\n",
              "\n",
              "    .dataframe tbody tr th {\n",
              "        vertical-align: top;\n",
              "    }\n",
              "\n",
              "    .dataframe thead th {\n",
              "        text-align: right;\n",
              "    }\n",
              "</style>\n",
              "<table border=\"1\" class=\"dataframe\">\n",
              "  <thead>\n",
              "    <tr style=\"text-align: right;\">\n",
              "      <th></th>\n",
              "      <th>id</th>\n",
              "      <th>tweet</th>\n",
              "      <th>subtask_a</th>\n",
              "      <th>subtask_b</th>\n",
              "      <th>subtask_c</th>\n",
              "    </tr>\n",
              "  </thead>\n",
              "  <tbody>\n",
              "    <tr>\n",
              "      <th>0</th>\n",
              "      <td>86426</td>\n",
              "      <td>@USER She should ask a few native Americans wh...</td>\n",
              "      <td>OFF</td>\n",
              "      <td>UNT</td>\n",
              "      <td>NaN</td>\n",
              "    </tr>\n",
              "    <tr>\n",
              "      <th>1</th>\n",
              "      <td>90194</td>\n",
              "      <td>@USER @USER Go home you’re drunk!!! @USER #MAG...</td>\n",
              "      <td>OFF</td>\n",
              "      <td>TIN</td>\n",
              "      <td>IND</td>\n",
              "    </tr>\n",
              "    <tr>\n",
              "      <th>2</th>\n",
              "      <td>16820</td>\n",
              "      <td>Amazon is investigating Chinese employees who ...</td>\n",
              "      <td>NOT</td>\n",
              "      <td>NaN</td>\n",
              "      <td>NaN</td>\n",
              "    </tr>\n",
              "    <tr>\n",
              "      <th>3</th>\n",
              "      <td>62688</td>\n",
              "      <td>@USER Someone should'veTaken\" this piece of sh...</td>\n",
              "      <td>OFF</td>\n",
              "      <td>UNT</td>\n",
              "      <td>NaN</td>\n",
              "    </tr>\n",
              "    <tr>\n",
              "      <th>4</th>\n",
              "      <td>43605</td>\n",
              "      <td>@USER @USER Obama wanted liberals &amp;amp; illega...</td>\n",
              "      <td>NOT</td>\n",
              "      <td>NaN</td>\n",
              "      <td>NaN</td>\n",
              "    </tr>\n",
              "    <tr>\n",
              "      <th>...</th>\n",
              "      <td>...</td>\n",
              "      <td>...</td>\n",
              "      <td>...</td>\n",
              "      <td>...</td>\n",
              "      <td>...</td>\n",
              "    </tr>\n",
              "    <tr>\n",
              "      <th>13235</th>\n",
              "      <td>95338</td>\n",
              "      <td>@USER Sometimes I get strong vibes from people...</td>\n",
              "      <td>OFF</td>\n",
              "      <td>TIN</td>\n",
              "      <td>IND</td>\n",
              "    </tr>\n",
              "    <tr>\n",
              "      <th>13236</th>\n",
              "      <td>67210</td>\n",
              "      <td>Benidorm ✅  Creamfields ✅  Maga ✅   Not too sh...</td>\n",
              "      <td>NOT</td>\n",
              "      <td>NaN</td>\n",
              "      <td>NaN</td>\n",
              "    </tr>\n",
              "    <tr>\n",
              "      <th>13237</th>\n",
              "      <td>82921</td>\n",
              "      <td>@USER And why report this garbage.  We don't g...</td>\n",
              "      <td>OFF</td>\n",
              "      <td>TIN</td>\n",
              "      <td>OTH</td>\n",
              "    </tr>\n",
              "    <tr>\n",
              "      <th>13238</th>\n",
              "      <td>27429</td>\n",
              "      <td>@USER Pussy</td>\n",
              "      <td>OFF</td>\n",
              "      <td>UNT</td>\n",
              "      <td>NaN</td>\n",
              "    </tr>\n",
              "    <tr>\n",
              "      <th>13239</th>\n",
              "      <td>46552</td>\n",
              "      <td>#Spanishrevenge vs. #justice #HumanRights and ...</td>\n",
              "      <td>NOT</td>\n",
              "      <td>NaN</td>\n",
              "      <td>NaN</td>\n",
              "    </tr>\n",
              "  </tbody>\n",
              "</table>\n",
              "<p>13240 rows × 5 columns</p>\n",
              "</div>\n",
              "      <button class=\"colab-df-convert\" onclick=\"convertToInteractive('df-14993edd-36cf-48b0-b67b-29d81334b37c')\"\n",
              "              title=\"Convert this dataframe to an interactive table.\"\n",
              "              style=\"display:none;\">\n",
              "        \n",
              "  <svg xmlns=\"http://www.w3.org/2000/svg\" height=\"24px\"viewBox=\"0 0 24 24\"\n",
              "       width=\"24px\">\n",
              "    <path d=\"M0 0h24v24H0V0z\" fill=\"none\"/>\n",
              "    <path d=\"M18.56 5.44l.94 2.06.94-2.06 2.06-.94-2.06-.94-.94-2.06-.94 2.06-2.06.94zm-11 1L8.5 8.5l.94-2.06 2.06-.94-2.06-.94L8.5 2.5l-.94 2.06-2.06.94zm10 10l.94 2.06.94-2.06 2.06-.94-2.06-.94-.94-2.06-.94 2.06-2.06.94z\"/><path d=\"M17.41 7.96l-1.37-1.37c-.4-.4-.92-.59-1.43-.59-.52 0-1.04.2-1.43.59L10.3 9.45l-7.72 7.72c-.78.78-.78 2.05 0 2.83L4 21.41c.39.39.9.59 1.41.59.51 0 1.02-.2 1.41-.59l7.78-7.78 2.81-2.81c.8-.78.8-2.07 0-2.86zM5.41 20L4 18.59l7.72-7.72 1.47 1.35L5.41 20z\"/>\n",
              "  </svg>\n",
              "      </button>\n",
              "      \n",
              "  <style>\n",
              "    .colab-df-container {\n",
              "      display:flex;\n",
              "      flex-wrap:wrap;\n",
              "      gap: 12px;\n",
              "    }\n",
              "\n",
              "    .colab-df-convert {\n",
              "      background-color: #E8F0FE;\n",
              "      border: none;\n",
              "      border-radius: 50%;\n",
              "      cursor: pointer;\n",
              "      display: none;\n",
              "      fill: #1967D2;\n",
              "      height: 32px;\n",
              "      padding: 0 0 0 0;\n",
              "      width: 32px;\n",
              "    }\n",
              "\n",
              "    .colab-df-convert:hover {\n",
              "      background-color: #E2EBFA;\n",
              "      box-shadow: 0px 1px 2px rgba(60, 64, 67, 0.3), 0px 1px 3px 1px rgba(60, 64, 67, 0.15);\n",
              "      fill: #174EA6;\n",
              "    }\n",
              "\n",
              "    [theme=dark] .colab-df-convert {\n",
              "      background-color: #3B4455;\n",
              "      fill: #D2E3FC;\n",
              "    }\n",
              "\n",
              "    [theme=dark] .colab-df-convert:hover {\n",
              "      background-color: #434B5C;\n",
              "      box-shadow: 0px 1px 3px 1px rgba(0, 0, 0, 0.15);\n",
              "      filter: drop-shadow(0px 1px 2px rgba(0, 0, 0, 0.3));\n",
              "      fill: #FFFFFF;\n",
              "    }\n",
              "  </style>\n",
              "\n",
              "      <script>\n",
              "        const buttonEl =\n",
              "          document.querySelector('#df-14993edd-36cf-48b0-b67b-29d81334b37c button.colab-df-convert');\n",
              "        buttonEl.style.display =\n",
              "          google.colab.kernel.accessAllowed ? 'block' : 'none';\n",
              "\n",
              "        async function convertToInteractive(key) {\n",
              "          const element = document.querySelector('#df-14993edd-36cf-48b0-b67b-29d81334b37c');\n",
              "          const dataTable =\n",
              "            await google.colab.kernel.invokeFunction('convertToInteractive',\n",
              "                                                     [key], {});\n",
              "          if (!dataTable) return;\n",
              "\n",
              "          const docLinkHtml = 'Like what you see? Visit the ' +\n",
              "            '<a target=\"_blank\" href=https://colab.research.google.com/notebooks/data_table.ipynb>data table notebook</a>'\n",
              "            + ' to learn more about interactive tables.';\n",
              "          element.innerHTML = '';\n",
              "          dataTable['output_type'] = 'display_data';\n",
              "          await google.colab.output.renderOutput(dataTable, element);\n",
              "          const docLink = document.createElement('div');\n",
              "          docLink.innerHTML = docLinkHtml;\n",
              "          element.appendChild(docLink);\n",
              "        }\n",
              "      </script>\n",
              "    </div>\n",
              "  </div>\n",
              "  "
            ]
          },
          "metadata": {},
          "execution_count": 25
        }
      ]
    },
    {
      "cell_type": "code",
      "source": [
        "#dropping irrelevant columns\n",
        "olid_df.drop(columns=['subtask_b', 'subtask_c'])\n",
        "\n",
        "#lowercase\n",
        "olid_df['tweet'] = [entry.lower() for entry in olid_df['tweet']]\n"
      ],
      "metadata": {
        "id": "-QdCUrlOTsBJ"
      },
      "execution_count": 26,
      "outputs": []
    },
    {
      "cell_type": "code",
      "source": [
        "#tokenization\n",
        "olid_df['tweet']= [word_tokenize(entry) for entry in olid_df['tweet']]\n"
      ],
      "metadata": {
        "id": "JB-648uuTv_3"
      },
      "execution_count": 27,
      "outputs": []
    },
    {
      "cell_type": "code",
      "source": [
        "#StopWord Removal and Lemmatization\n",
        "tag_map = defaultdict(lambda : wn.NOUN)\n",
        "tag_map['J'] = wn.ADJ\n",
        "tag_map['V'] = wn.VERB\n",
        "tag_map['R'] = wn.ADV\n",
        "for index,entry in enumerate(olid_df['tweet']):\n",
        "\n",
        "    Final_words = []\n",
        "    word_Lemmatized = WordNetLemmatizer()\n",
        "\n",
        "    for word, tag in pos_tag(entry):\n",
        "        # Below condition is to check for Stop words and consider only alphabets\n",
        "        if word not in stopwords.words('english') and word.isalpha():\n",
        "            word_Final = word_Lemmatized.lemmatize(word,tag_map[tag[0]])\n",
        "            Final_words.append(word_Final)\n",
        "    \n",
        "    \n",
        "    olid_df.loc[index,'text_final'] = str(Final_words)"
      ],
      "metadata": {
        "id": "wPJXytrZT2SA"
      },
      "execution_count": 28,
      "outputs": []
    },
    {
      "cell_type": "code",
      "source": [
        "Train_X, Test_X, Train_Y, Test_Y = model_selection.train_test_split(olid_df['text_final'],olid_df['subtask_a'],test_size=0.30)"
      ],
      "metadata": {
        "id": "1Kh7yiuZVQsp"
      },
      "execution_count": 29,
      "outputs": []
    },
    {
      "cell_type": "code",
      "source": [
        "Tfidf_vect = TfidfVectorizer(max_features=6000)\n",
        "Tfidf_vect.fit(olid_df['text_final'])\n",
        "Train_X_Tfidf = Tfidf_vect.transform(Train_X)\n",
        "Test_X_Tfidf = Tfidf_vect.transform(Test_X)"
      ],
      "metadata": {
        "id": "o3cInHh1eF9V"
      },
      "execution_count": 30,
      "outputs": []
    },
    {
      "cell_type": "code",
      "source": [
        "Encoder = LabelEncoder()\n",
        "# 0 NOT Offensive\n",
        "# 1 Offensive\n",
        "\n",
        "Train_Y = Encoder.fit_transform(Train_Y)\n",
        "Test_Y = Encoder.fit_transform(Test_Y)"
      ],
      "metadata": {
        "id": "LKbukVhBQG2i"
      },
      "execution_count": 31,
      "outputs": []
    },
    {
      "cell_type": "code",
      "source": [
        "olid_df"
      ],
      "metadata": {
        "colab": {
          "base_uri": "https://localhost:8080/",
          "height": 424
        },
        "id": "Pnw9Qzv7vPwi",
        "outputId": "fac998fe-b382-4b84-de9b-71c3359cd729"
      },
      "execution_count": 32,
      "outputs": [
        {
          "output_type": "execute_result",
          "data": {
            "text/plain": [
              "          id                                              tweet subtask_a  \\\n",
              "0      86426  [@, user, she, should, ask, a, few, native, am...       OFF   \n",
              "1      90194  [@, user, @, user, go, home, you, ’, re, drunk...       OFF   \n",
              "2      16820  [amazon, is, investigating, chinese, employees...       NOT   \n",
              "3      62688  [@, user, someone, should'vetaken, '', this, p...       OFF   \n",
              "4      43605  [@, user, @, user, obama, wanted, liberals, &,...       NOT   \n",
              "...      ...                                                ...       ...   \n",
              "13235  95338  [@, user, sometimes, i, get, strong, vibes, fr...       OFF   \n",
              "13236  67210  [benidorm, ✅, creamfields, ✅, maga, ✅, not, to...       NOT   \n",
              "13237  82921  [@, user, and, why, report, this, garbage, ., ...       OFF   \n",
              "13238  27429                                   [@, user, pussy]       OFF   \n",
              "13239  46552  [#, spanishrevenge, vs., #, justice, #, humanr...       NOT   \n",
              "\n",
              "      subtask_b subtask_c                                         text_final  \n",
              "0           UNT       NaN      ['user', 'ask', 'native', 'american', 'take']  \n",
              "1           TIN       IND  ['user', 'user', 'go', 'home', 'drunk', 'user'...  \n",
              "2           NaN       NaN  ['amazon', 'investigate', 'chinese', 'employee...  \n",
              "3           UNT       NaN    ['user', 'someone', 'piece', 'shit', 'volcano']  \n",
              "4           NaN       NaN  ['user', 'user', 'obama', 'want', 'liberal', '...  \n",
              "...         ...       ...                                                ...  \n",
              "13235       TIN       IND  ['user', 'sometimes', 'get', 'strong', 'vibe',...  \n",
              "13236       NaN       NaN  ['benidorm', 'creamfields', 'maga', 'shabby', ...  \n",
              "13237       TIN       OTH      ['user', 'report', 'garbage', 'give', 'crap']  \n",
              "13238       UNT       NaN                                  ['user', 'pussy']  \n",
              "13239       NaN       NaN  ['spanishrevenge', 'justice', 'humanrights', '...  \n",
              "\n",
              "[13240 rows x 6 columns]"
            ],
            "text/html": [
              "\n",
              "  <div id=\"df-d89931fa-ce27-4963-b1ee-df625c314564\">\n",
              "    <div class=\"colab-df-container\">\n",
              "      <div>\n",
              "<style scoped>\n",
              "    .dataframe tbody tr th:only-of-type {\n",
              "        vertical-align: middle;\n",
              "    }\n",
              "\n",
              "    .dataframe tbody tr th {\n",
              "        vertical-align: top;\n",
              "    }\n",
              "\n",
              "    .dataframe thead th {\n",
              "        text-align: right;\n",
              "    }\n",
              "</style>\n",
              "<table border=\"1\" class=\"dataframe\">\n",
              "  <thead>\n",
              "    <tr style=\"text-align: right;\">\n",
              "      <th></th>\n",
              "      <th>id</th>\n",
              "      <th>tweet</th>\n",
              "      <th>subtask_a</th>\n",
              "      <th>subtask_b</th>\n",
              "      <th>subtask_c</th>\n",
              "      <th>text_final</th>\n",
              "    </tr>\n",
              "  </thead>\n",
              "  <tbody>\n",
              "    <tr>\n",
              "      <th>0</th>\n",
              "      <td>86426</td>\n",
              "      <td>[@, user, she, should, ask, a, few, native, am...</td>\n",
              "      <td>OFF</td>\n",
              "      <td>UNT</td>\n",
              "      <td>NaN</td>\n",
              "      <td>['user', 'ask', 'native', 'american', 'take']</td>\n",
              "    </tr>\n",
              "    <tr>\n",
              "      <th>1</th>\n",
              "      <td>90194</td>\n",
              "      <td>[@, user, @, user, go, home, you, ’, re, drunk...</td>\n",
              "      <td>OFF</td>\n",
              "      <td>TIN</td>\n",
              "      <td>IND</td>\n",
              "      <td>['user', 'user', 'go', 'home', 'drunk', 'user'...</td>\n",
              "    </tr>\n",
              "    <tr>\n",
              "      <th>2</th>\n",
              "      <td>16820</td>\n",
              "      <td>[amazon, is, investigating, chinese, employees...</td>\n",
              "      <td>NOT</td>\n",
              "      <td>NaN</td>\n",
              "      <td>NaN</td>\n",
              "      <td>['amazon', 'investigate', 'chinese', 'employee...</td>\n",
              "    </tr>\n",
              "    <tr>\n",
              "      <th>3</th>\n",
              "      <td>62688</td>\n",
              "      <td>[@, user, someone, should'vetaken, '', this, p...</td>\n",
              "      <td>OFF</td>\n",
              "      <td>UNT</td>\n",
              "      <td>NaN</td>\n",
              "      <td>['user', 'someone', 'piece', 'shit', 'volcano']</td>\n",
              "    </tr>\n",
              "    <tr>\n",
              "      <th>4</th>\n",
              "      <td>43605</td>\n",
              "      <td>[@, user, @, user, obama, wanted, liberals, &amp;,...</td>\n",
              "      <td>NOT</td>\n",
              "      <td>NaN</td>\n",
              "      <td>NaN</td>\n",
              "      <td>['user', 'user', 'obama', 'want', 'liberal', '...</td>\n",
              "    </tr>\n",
              "    <tr>\n",
              "      <th>...</th>\n",
              "      <td>...</td>\n",
              "      <td>...</td>\n",
              "      <td>...</td>\n",
              "      <td>...</td>\n",
              "      <td>...</td>\n",
              "      <td>...</td>\n",
              "    </tr>\n",
              "    <tr>\n",
              "      <th>13235</th>\n",
              "      <td>95338</td>\n",
              "      <td>[@, user, sometimes, i, get, strong, vibes, fr...</td>\n",
              "      <td>OFF</td>\n",
              "      <td>TIN</td>\n",
              "      <td>IND</td>\n",
              "      <td>['user', 'sometimes', 'get', 'strong', 'vibe',...</td>\n",
              "    </tr>\n",
              "    <tr>\n",
              "      <th>13236</th>\n",
              "      <td>67210</td>\n",
              "      <td>[benidorm, ✅, creamfields, ✅, maga, ✅, not, to...</td>\n",
              "      <td>NOT</td>\n",
              "      <td>NaN</td>\n",
              "      <td>NaN</td>\n",
              "      <td>['benidorm', 'creamfields', 'maga', 'shabby', ...</td>\n",
              "    </tr>\n",
              "    <tr>\n",
              "      <th>13237</th>\n",
              "      <td>82921</td>\n",
              "      <td>[@, user, and, why, report, this, garbage, ., ...</td>\n",
              "      <td>OFF</td>\n",
              "      <td>TIN</td>\n",
              "      <td>OTH</td>\n",
              "      <td>['user', 'report', 'garbage', 'give', 'crap']</td>\n",
              "    </tr>\n",
              "    <tr>\n",
              "      <th>13238</th>\n",
              "      <td>27429</td>\n",
              "      <td>[@, user, pussy]</td>\n",
              "      <td>OFF</td>\n",
              "      <td>UNT</td>\n",
              "      <td>NaN</td>\n",
              "      <td>['user', 'pussy']</td>\n",
              "    </tr>\n",
              "    <tr>\n",
              "      <th>13239</th>\n",
              "      <td>46552</td>\n",
              "      <td>[#, spanishrevenge, vs., #, justice, #, humanr...</td>\n",
              "      <td>NOT</td>\n",
              "      <td>NaN</td>\n",
              "      <td>NaN</td>\n",
              "      <td>['spanishrevenge', 'justice', 'humanrights', '...</td>\n",
              "    </tr>\n",
              "  </tbody>\n",
              "</table>\n",
              "<p>13240 rows × 6 columns</p>\n",
              "</div>\n",
              "      <button class=\"colab-df-convert\" onclick=\"convertToInteractive('df-d89931fa-ce27-4963-b1ee-df625c314564')\"\n",
              "              title=\"Convert this dataframe to an interactive table.\"\n",
              "              style=\"display:none;\">\n",
              "        \n",
              "  <svg xmlns=\"http://www.w3.org/2000/svg\" height=\"24px\"viewBox=\"0 0 24 24\"\n",
              "       width=\"24px\">\n",
              "    <path d=\"M0 0h24v24H0V0z\" fill=\"none\"/>\n",
              "    <path d=\"M18.56 5.44l.94 2.06.94-2.06 2.06-.94-2.06-.94-.94-2.06-.94 2.06-2.06.94zm-11 1L8.5 8.5l.94-2.06 2.06-.94-2.06-.94L8.5 2.5l-.94 2.06-2.06.94zm10 10l.94 2.06.94-2.06 2.06-.94-2.06-.94-.94-2.06-.94 2.06-2.06.94z\"/><path d=\"M17.41 7.96l-1.37-1.37c-.4-.4-.92-.59-1.43-.59-.52 0-1.04.2-1.43.59L10.3 9.45l-7.72 7.72c-.78.78-.78 2.05 0 2.83L4 21.41c.39.39.9.59 1.41.59.51 0 1.02-.2 1.41-.59l7.78-7.78 2.81-2.81c.8-.78.8-2.07 0-2.86zM5.41 20L4 18.59l7.72-7.72 1.47 1.35L5.41 20z\"/>\n",
              "  </svg>\n",
              "      </button>\n",
              "      \n",
              "  <style>\n",
              "    .colab-df-container {\n",
              "      display:flex;\n",
              "      flex-wrap:wrap;\n",
              "      gap: 12px;\n",
              "    }\n",
              "\n",
              "    .colab-df-convert {\n",
              "      background-color: #E8F0FE;\n",
              "      border: none;\n",
              "      border-radius: 50%;\n",
              "      cursor: pointer;\n",
              "      display: none;\n",
              "      fill: #1967D2;\n",
              "      height: 32px;\n",
              "      padding: 0 0 0 0;\n",
              "      width: 32px;\n",
              "    }\n",
              "\n",
              "    .colab-df-convert:hover {\n",
              "      background-color: #E2EBFA;\n",
              "      box-shadow: 0px 1px 2px rgba(60, 64, 67, 0.3), 0px 1px 3px 1px rgba(60, 64, 67, 0.15);\n",
              "      fill: #174EA6;\n",
              "    }\n",
              "\n",
              "    [theme=dark] .colab-df-convert {\n",
              "      background-color: #3B4455;\n",
              "      fill: #D2E3FC;\n",
              "    }\n",
              "\n",
              "    [theme=dark] .colab-df-convert:hover {\n",
              "      background-color: #434B5C;\n",
              "      box-shadow: 0px 1px 3px 1px rgba(0, 0, 0, 0.15);\n",
              "      filter: drop-shadow(0px 1px 2px rgba(0, 0, 0, 0.3));\n",
              "      fill: #FFFFFF;\n",
              "    }\n",
              "  </style>\n",
              "\n",
              "      <script>\n",
              "        const buttonEl =\n",
              "          document.querySelector('#df-d89931fa-ce27-4963-b1ee-df625c314564 button.colab-df-convert');\n",
              "        buttonEl.style.display =\n",
              "          google.colab.kernel.accessAllowed ? 'block' : 'none';\n",
              "\n",
              "        async function convertToInteractive(key) {\n",
              "          const element = document.querySelector('#df-d89931fa-ce27-4963-b1ee-df625c314564');\n",
              "          const dataTable =\n",
              "            await google.colab.kernel.invokeFunction('convertToInteractive',\n",
              "                                                     [key], {});\n",
              "          if (!dataTable) return;\n",
              "\n",
              "          const docLinkHtml = 'Like what you see? Visit the ' +\n",
              "            '<a target=\"_blank\" href=https://colab.research.google.com/notebooks/data_table.ipynb>data table notebook</a>'\n",
              "            + ' to learn more about interactive tables.';\n",
              "          element.innerHTML = '';\n",
              "          dataTable['output_type'] = 'display_data';\n",
              "          await google.colab.output.renderOutput(dataTable, element);\n",
              "          const docLink = document.createElement('div');\n",
              "          docLink.innerHTML = docLinkHtml;\n",
              "          element.appendChild(docLink);\n",
              "        }\n",
              "      </script>\n",
              "    </div>\n",
              "  </div>\n",
              "  "
            ]
          },
          "metadata": {},
          "execution_count": 32
        }
      ]
    },
    {
      "cell_type": "code",
      "source": [
        "#Naive Bayes\n",
        "\n",
        "# Grab Currrent Time Before Running the Code\n",
        "start = time.time()\n",
        "\n",
        "\n",
        "NB = MultinomialNB().fit(Train_X_Tfidf,Train_Y)\n",
        "predictions_NB = NB.predict(Test_X_Tfidf)\n",
        "\n",
        "# Grab Currrent Time After Running the Code\n",
        "end = time.time()\n",
        "\n",
        "#Subtract Start Time from The End Time\n",
        "total_time = end - start\n",
        "print(\"\\n\"+ str(total_time)) \n",
        "\n",
        "cf2_matrix = confusion_matrix(Test_Y, predictions_NB)\n",
        "ax1 = sns.heatmap(cf2_matrix, cmap='Blues')\n",
        "cf2_matrix\n",
        "\n",
        "print(classification_report(Test_Y,predictions_NB))\n",
        "print(confusion_matrix(Test_Y,predictions_NB))\n"
      ],
      "metadata": {
        "colab": {
          "base_uri": "https://localhost:8080/",
          "height": 491
        },
        "id": "fcxv5A0gQK3U",
        "outputId": "ddcc3c93-2f87-4a91-c767-220792e4c9d2"
      },
      "execution_count": 33,
      "outputs": [
        {
          "output_type": "stream",
          "name": "stdout",
          "text": [
            "\n",
            "0.010798931121826172\n",
            "              precision    recall  f1-score   support\n",
            "\n",
            "           0       0.73      0.97      0.83      2682\n",
            "           1       0.79      0.26      0.39      1290\n",
            "\n",
            "    accuracy                           0.74      3972\n",
            "   macro avg       0.76      0.61      0.61      3972\n",
            "weighted avg       0.75      0.74      0.69      3972\n",
            "\n",
            "[[2594   88]\n",
            " [ 956  334]]\n"
          ]
        },
        {
          "output_type": "display_data",
          "data": {
            "text/plain": [
              "<Figure size 432x288 with 2 Axes>"
            ],
            "image/png": "[encoded data removed]"
          },
          "metadata": {
            "needs_background": "light"
          }
        }
      ]
    },
    {
      "cell_type": "code",
      "source": [
        "decision_tree = DecisionTreeClassifier(criterion='gini')\n",
        "decision_tree_1 = DecisionTreeClassifier(criterion='entropy')\n",
        "random_forest = RandomForestClassifier(n_estimators=300, criterion = \"entropy\")\n",
        "adaboost = AdaBoostClassifier(n_estimators=300,\n",
        "                              learning_rate=0.2)\n",
        "bagging = BaggingClassifier(n_estimators=200)"
      ],
      "metadata": {
        "id": "HYEpPHDpApDq"
      },
      "execution_count": 34,
      "outputs": []
    },
    {
      "cell_type": "code",
      "source": [
        "# Bagging Classifier \n",
        "\n",
        "# Grab Currrent Time Before Running the Code\n",
        "start = time.time()\n",
        "\n",
        "\n",
        "bg = bagging.fit(Train_X_Tfidf,Train_Y)\n",
        "predictions_bg = bg.predict(Test_X_Tfidf)\n",
        "\n",
        "# Grab Currrent Time After Running the Code\n",
        "end = time.time()\n",
        "\n",
        "#Subtract Start Time from The End Time\n",
        "total_time = end - start\n",
        "print(\"\\n\"+ str(total_time)) \n",
        "\n",
        "cf2_matrix = confusion_matrix(Test_Y, predictions_bg)\n",
        "ax1 = sns.heatmap(cf2_matrix, cmap='Blues')\n",
        "cf2_matrix\n",
        "\n",
        "print(classification_report(Test_Y,predictions_bg))\n",
        "print(confusion_matrix(Test_Y,predictions_bg))\n"
      ],
      "metadata": {
        "id": "b95wbZxJI4kk",
        "colab": {
          "base_uri": "https://localhost:8080/",
          "height": 491
        },
        "outputId": "38e3f218-d731-4a3d-cca1-8e4dabbd60d4"
      },
      "execution_count": 35,
      "outputs": [
        {
          "output_type": "stream",
          "name": "stdout",
          "text": [
            "\n",
            "367.90548872947693\n",
            "              precision    recall  f1-score   support\n",
            "\n",
            "           0       0.78      0.91      0.84      2682\n",
            "           1       0.71      0.47      0.56      1290\n",
            "\n",
            "    accuracy                           0.76      3972\n",
            "   macro avg       0.74      0.69      0.70      3972\n",
            "weighted avg       0.76      0.76      0.75      3972\n",
            "\n",
            "[[2431  251]\n",
            " [ 684  606]]\n"
          ]
        },
        {
          "output_type": "display_data",
          "data": {
            "text/plain": [
              "<Figure size 432x288 with 2 Axes>"
            ],
            "image/png": "[encoded data removed]"
          },
          "metadata": {
            "needs_background": "light"
          }
        }
      ]
    },
    {
      "cell_type": "code",
      "source": [
        "# Decision Tree : gini\n",
        "\n",
        "# Grab Currrent Time Before Running the Code\n",
        "start = time.time()\n",
        "\n",
        "\n",
        "dt = decision_tree.fit(Train_X_Tfidf,Train_Y)\n",
        "predictions_dt = dt.predict(Test_X_Tfidf)\n",
        "\n",
        "# Grab Currrent Time After Running the Code\n",
        "end = time.time()\n",
        "\n",
        "#Subtract Start Time from The End Time\n",
        "total_time = end - start\n",
        "print(\"\\n\"+ str(total_time)) \n",
        "\n",
        "cf2_matrix = confusion_matrix(Test_Y, predictions_dt)\n",
        "ax1 = sns.heatmap(cf2_matrix, cmap='Blues')\n",
        "cf2_matrix\n",
        "\n",
        "print(classification_report(Test_Y,predictions_dt))\n",
        "print(confusion_matrix(Test_Y,predictions_dt))\n"
      ],
      "metadata": {
        "colab": {
          "base_uri": "https://localhost:8080/",
          "height": 494
        },
        "id": "FzvUBK-ZYY4J",
        "outputId": "9d68d0ac-95b5-4c44-ee66-e82e08134d32"
      },
      "execution_count": 36,
      "outputs": [
        {
          "output_type": "stream",
          "name": "stdout",
          "text": [
            "\n",
            "2.4775755405426025\n",
            "              precision    recall  f1-score   support\n",
            "\n",
            "           0       0.77      0.82      0.80      2682\n",
            "           1       0.58      0.50      0.53      1290\n",
            "\n",
            "    accuracy                           0.72      3972\n",
            "   macro avg       0.67      0.66      0.67      3972\n",
            "weighted avg       0.71      0.72      0.71      3972\n",
            "\n",
            "[[2207  475]\n",
            " [ 647  643]]\n"
          ]
        },
        {
          "output_type": "display_data",
          "data": {
            "text/plain": [
              "<Figure size 432x288 with 2 Axes>"
            ],
            "image/png": "[encoded data removed]"
          },
          "metadata": {
            "needs_background": "light"
          }
        }
      ]
    },
    {
      "cell_type": "code",
      "source": [
        "# Decision Tree : Entropy\n",
        "\n",
        "# Grab Currrent Time Before Running the Code\n",
        "start = time.time()\n",
        "\n",
        "\n",
        "dt1 = decision_tree_1.fit(Train_X_Tfidf,Train_Y)\n",
        "predictions_dt1 = dt1.predict(Test_X_Tfidf)\n",
        "\n",
        "# Grab Currrent Time After Running the Code\n",
        "end = time.time()\n",
        "\n",
        "#Subtract Start Time from The End Time\n",
        "total_time = end - start\n",
        "print(\"\\n\"+ str(total_time)) \n",
        "\n",
        "cf2_matrix = confusion_matrix(Test_Y, predictions_dt1)\n",
        "ax1 = sns.heatmap(cf2_matrix, cmap='Blues')\n",
        "cf2_matrix\n",
        "\n",
        "print(classification_report(Test_Y,predictions_dt1))\n",
        "print(confusion_matrix(Test_Y,predictions_dt1))"
      ],
      "metadata": {
        "id": "rwagr7TC58S5",
        "colab": {
          "base_uri": "https://localhost:8080/",
          "height": 491
        },
        "outputId": "09f858bb-5b39-46bc-bb8d-c4205c3baa47"
      },
      "execution_count": 37,
      "outputs": [
        {
          "output_type": "stream",
          "name": "stdout",
          "text": [
            "\n",
            "2.783827304840088\n",
            "              precision    recall  f1-score   support\n",
            "\n",
            "           0       0.77      0.82      0.80      2682\n",
            "           1       0.57      0.50      0.53      1290\n",
            "\n",
            "    accuracy                           0.72      3972\n",
            "   macro avg       0.67      0.66      0.67      3972\n",
            "weighted avg       0.71      0.72      0.71      3972\n",
            "\n",
            "[[2199  483]\n",
            " [ 644  646]]\n"
          ]
        },
        {
          "output_type": "display_data",
          "data": {
            "text/plain": [
              "<Figure size 432x288 with 2 Axes>"
            ],
            "image/png": "[encoded data removed]"
          },
          "metadata": {
            "needs_background": "light"
          }
        }
      ]
    },
    {
      "cell_type": "code",
      "source": [
        ""
      ],
      "metadata": {
        "id": "ByimwAJmVlQS"
      },
      "execution_count": 37,
      "outputs": []
    },
    {
      "cell_type": "code",
      "source": [
        "# Random Forrest\n",
        "\n",
        "# Grab Currrent Time Before Running the Code\n",
        "start = time.time()\n",
        "\n",
        "\n",
        "rf = random_forest.fit(Train_X_Tfidf,Train_Y)\n",
        "predictions_rf = rf.predict(Test_X_Tfidf)\n",
        "\n",
        "# Grab Currrent Time After Running the Code\n",
        "end = time.time()\n",
        "\n",
        "#Subtract Start Time from The End Time\n",
        "total_time = end - start\n",
        "print(\"\\n\"+ str(total_time)) \n",
        "\n",
        "cf2_matrix = confusion_matrix(Test_Y, predictions_rf)\n",
        "ax1 = sns.heatmap(cf2_matrix, cmap='Blues')\n",
        "cf2_matrix\n",
        "\n",
        "print(classification_report(Test_Y,predictions_rf))\n",
        "print(confusion_matrix(Test_Y,predictions_rf))\n"
      ],
      "metadata": {
        "id": "yL7cYa24uMa7",
        "colab": {
          "base_uri": "https://localhost:8080/",
          "height": 492
        },
        "outputId": "1fcf16e6-cdfc-424d-88af-0e43bbd8a37d"
      },
      "execution_count": 38,
      "outputs": [
        {
          "output_type": "stream",
          "name": "stdout",
          "text": [
            "\n",
            "39.4072060585022\n",
            "              precision    recall  f1-score   support\n",
            "\n",
            "           0       0.77      0.95      0.85      2682\n",
            "           1       0.78      0.40      0.53      1290\n",
            "\n",
            "    accuracy                           0.77      3972\n",
            "   macro avg       0.77      0.67      0.69      3972\n",
            "weighted avg       0.77      0.77      0.74      3972\n",
            "\n",
            "[[2538  144]\n",
            " [ 779  511]]\n"
          ]
        },
        {
          "output_type": "display_data",
          "data": {
            "text/plain": [
              "<Figure size 432x288 with 2 Axes>"
            ],
            "image/png": "[encoded data removed]"
          },
          "metadata": {
            "needs_background": "light"
          }
        }
      ]
    },
    {
      "cell_type": "code",
      "source": [
        "# AdaBoost \n",
        "\n",
        "# Grab Currrent Time Before Running the Code\n",
        "start = time.time()\n",
        "\n",
        "\n",
        "ad = adaboost.fit(Train_X_Tfidf,Train_Y)\n",
        "predictions_ad = ad.predict(Test_X_Tfidf)\n",
        "\n",
        "# Grab Currrent Time After Running the Code\n",
        "end = time.time()\n",
        "\n",
        "#Subtract Start Time from The End Time\n",
        "total_time = end - start\n",
        "print(\"\\n\"+ str(total_time)) \n",
        "\n",
        "cf2_matrix = confusion_matrix(Test_Y, predictions_ad)\n",
        "ax1 = sns.heatmap(cf2_matrix, cmap='Blues')\n",
        "cf2_matrix\n",
        "\n",
        "print(classification_report(Test_Y,predictions_ad))\n",
        "print(confusion_matrix(Test_Y,predictions_ad))\n"
      ],
      "metadata": {
        "colab": {
          "base_uri": "https://localhost:8080/",
          "height": 491
        },
        "id": "Nwzlqs08un2O",
        "outputId": "9f0d2e25-de66-44bf-f55e-0b247d577b71"
      },
      "execution_count": 39,
      "outputs": [
        {
          "output_type": "stream",
          "name": "stdout",
          "text": [
            "\n",
            "8.17167329788208\n",
            "              precision    recall  f1-score   support\n",
            "\n",
            "           0       0.75      0.96      0.84      2682\n",
            "           1       0.81      0.34      0.48      1290\n",
            "\n",
            "    accuracy                           0.76      3972\n",
            "   macro avg       0.78      0.65      0.66      3972\n",
            "weighted avg       0.77      0.76      0.73      3972\n",
            "\n",
            "[[2575  107]\n",
            " [ 847  443]]\n"
          ]
        },
        {
          "output_type": "display_data",
          "data": {
            "text/plain": [
              "<Figure size 432x288 with 2 Axes>"
            ],
            "image/png": "[encoded data removed]"
          },
          "metadata": {
            "needs_background": "light"
          }
        }
      ]
    }
  ]
}